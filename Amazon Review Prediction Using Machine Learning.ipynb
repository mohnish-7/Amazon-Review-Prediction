{
 "cells": [
  {
   "cell_type": "markdown",
   "metadata": {},
   "source": [
    "<img style=\"text-align:center\" src='logo3.jpg' />"
   ]
  },
  {
   "cell_type": "markdown",
   "metadata": {},
   "source": [
    "<h1 style=\"size:bold;text-align:center; color:#51adcf;\"> Amazon Review Prediction Using Machine Learning </h1>"
   ]
  },
  {
   "cell_type": "markdown",
   "metadata": {},
   "source": [
    "<h3 style=\"text-align:center; color:#f08a5d;\">This Machine Learning model can be used to predict whether an Amazon review, or any other review in general, is positive or negative with an acuraccy of 92.19858% .</h3>"
   ]
  },
  {
   "cell_type": "markdown",
   "metadata": {},
   "source": [
    "### Source Code"
   ]
  },
  {
   "cell_type": "markdown",
   "metadata": {},
   "source": [
    "<p>If you aren't a programmer feel free to skip this part !</p>"
   ]
  },
  {
   "cell_type": "markdown",
   "metadata": {},
   "source": [
    "import pandas as pd\n",
    "from sklearn.model_selection import train_test_split\n",
    "from sklearn.pipeline import Pipeline\n",
    "from sklearn.feature_extraction.text import TfidfVectorizer as tf\n",
    "from sklearn.svm import LinearSVC \n",
    "from sklearn.metrics import accuracy_score\n",
    "from pickle import dump,load \n",
    "from IPython.display import clear_output\n",
    "\n",
    "f = pd.read_csv('Datasets/amazonreviews.tsv','\\t')\n",
    "\n",
    "f.isnull().sum()\n",
    "\n",
    "f.dropna(inplace=True)\n",
    "blanks = []\n",
    "for i,l,r in f.itertuples():\n",
    "    if type(r) == str :\n",
    "        if r.isspace() :\n",
    "            blanks.append(i)\n",
    "            \n",
    "f.drop(blanks,inplace=True)\n",
    "\n",
    "x = f['review']\n",
    "y = f['label']\n",
    "rev_train, rev_test, lab_train, lab_test = train_test_split(x, y, test_size=0.25, random_state=7)\n",
    "\n",
    "classifier = Pipeline([('tfidf',tf()),('svc',LinearSVC())])\n",
    "\n",
    "classifier.fit(rev_train,lab_train)\n",
    "\n",
    "print('')\n",
    "\n",
    "file1 = open('classifier.pkl','wb')\n",
    "dump(classifier,file1)\n",
    "file1.close()\n"
   ]
  },
  {
   "cell_type": "markdown",
   "metadata": {},
   "source": [
    "<h1 style='text-align:center;color:#28df99;'> Start Here </h1>"
   ]
  },
  {
   "cell_type": "markdown",
   "metadata": {},
   "source": [
    "### Run the cell below by pressing Shift + Enter "
   ]
  },
  {
   "cell_type": "code",
   "execution_count": null,
   "metadata": {},
   "outputs": [],
   "source": [
    "from predictor import predictor as start\n",
    "start()"
   ]
  },
  {
   "cell_type": "markdown",
   "metadata": {},
   "source": [
    " "
   ]
  },
  {
   "cell_type": "markdown",
   "metadata": {},
   "source": [
    " "
   ]
  },
  {
   "cell_type": "markdown",
   "metadata": {},
   "source": [
    "<h4 style=\" text-align:center;color:#ff414d;\">Created by Mohnish</h4>\n",
    "\n",
    "<h4 style=\" text-align:center;\"><a href='https://mohnish.netlify.app/'>Website</a></h4>"
   ]
  },
  {
   "cell_type": "markdown",
   "metadata": {},
   "source": [
    " "
   ]
  }
 ],
 "metadata": {
  "kernelspec": {
   "display_name": "Python 3",
   "language": "python",
   "name": "python3"
  },
  "language_info": {
   "codemirror_mode": {
    "name": "ipython",
    "version": 3
   },
   "file_extension": ".py",
   "mimetype": "text/x-python",
   "name": "python",
   "nbconvert_exporter": "python",
   "pygments_lexer": "ipython3",
   "version": "3.7.6"
  }
 },
 "nbformat": 4,
 "nbformat_minor": 4
}
